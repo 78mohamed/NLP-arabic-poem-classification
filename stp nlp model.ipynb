{
  "nbformat": 4,
  "nbformat_minor": 0,
  "metadata": {
    "accelerator": "GPU",
    "colab": {
      "name": "1.final_submission_v9530.ipynb",
      "provenance": [],
      "collapsed_sections": [
        "OGf5ehn8LRdu",
        "5Eg0y1SF2vPx",
        "5uHdRK4cCrGJ",
        "rIcO5DQ-SvHn",
        "K2UPzNASUo46",
        "ReFTWbjiypHj"
      ]
    },
    "kernelspec": {
      "display_name": "Python 3",
      "name": "python3"
    }
  },
  "cells": [
    {
      "cell_type": "code",
      "metadata": {
        "id": "l69CqoAjFMIa",
        "colab": {
          "base_uri": "https://localhost:8080/"
        },
        "outputId": "762b623b-7f6b-4a63-b2e8-bb23bd071493"
      },
      "source": [
        "from google.colab import drive\n",
        "drive.mount('/content/drive')"
      ],
      "execution_count": null,
      "outputs": [
        {
          "output_type": "stream",
          "text": [
            "Mounted at /content/drive\n"
          ],
          "name": "stdout"
        }
      ]
    },
    {
      "cell_type": "code",
      "metadata": {
        "colab": {
          "base_uri": "https://localhost:8080/"
        },
        "id": "9d0vjDuxuHl8",
        "outputId": "a75d940c-76a9-420e-c405-683791f34d84"
      },
      "source": [
        "!pip install pyarabic"
      ],
      "execution_count": null,
      "outputs": [
        {
          "output_type": "stream",
          "text": [
            "Collecting pyarabic\n",
            "\u001b[?25l  Downloading https://files.pythonhosted.org/packages/7b/e2/46728ec2f6fe14970de5c782346609f0636262c0941228f363710903aaa1/PyArabic-0.6.10.tar.gz (108kB)\n",
            "\r\u001b[K     |███                             | 10kB 21.6MB/s eta 0:00:01\r\u001b[K     |██████                          | 20kB 28.4MB/s eta 0:00:01\r\u001b[K     |█████████                       | 30kB 33.0MB/s eta 0:00:01\r\u001b[K     |████████████                    | 40kB 30.0MB/s eta 0:00:01\r\u001b[K     |███████████████                 | 51kB 30.9MB/s eta 0:00:01\r\u001b[K     |██████████████████              | 61kB 31.9MB/s eta 0:00:01\r\u001b[K     |█████████████████████           | 71kB 26.5MB/s eta 0:00:01\r\u001b[K     |████████████████████████        | 81kB 26.9MB/s eta 0:00:01\r\u001b[K     |███████████████████████████     | 92kB 27.3MB/s eta 0:00:01\r\u001b[K     |██████████████████████████████  | 102kB 28.2MB/s eta 0:00:01\r\u001b[K     |████████████████████████████████| 112kB 28.2MB/s \n",
            "\u001b[?25hBuilding wheels for collected packages: pyarabic\n",
            "  Building wheel for pyarabic (setup.py) ... \u001b[?25l\u001b[?25hdone\n",
            "  Created wheel for pyarabic: filename=PyArabic-0.6.10-cp37-none-any.whl size=113324 sha256=60a005258e5cb9e2bbd6745f1ac9bf5561adb71945c9027b569d22915e7ef3c6\n",
            "  Stored in directory: /root/.cache/pip/wheels/10/b8/f5/b7c1a50e6efb83544844f165a9b134afe7292585465e29b61d\n",
            "Successfully built pyarabic\n",
            "Installing collected packages: pyarabic\n",
            "Successfully installed pyarabic-0.6.10\n"
          ],
          "name": "stdout"
        }
      ]
    },
    {
      "cell_type": "code",
      "metadata": {
        "id": "23FSFg5t6fc1"
      },
      "source": [
        "import tensorflow as tf\n",
        "import numpy as np\n",
        "import pandas as pd\n",
        "import os\n",
        "from tqdm import tqdm\n",
        "import time\n",
        "import glob\n",
        "from random import shuffle\n",
        "from pyarabic import araby\n",
        "from tensorflow.keras.layers import GRU, Embedding, Dense, Input, Dropout, Bidirectional, BatchNormalization, Flatten, Reshape\n",
        "from tensorflow.keras.models import Sequential\n",
        "from keras.preprocessing.text import Tokenizer, text_to_word_sequence\n",
        "from keras.preprocessing.sequence import pad_sequences\n",
        "from sklearn.utils import shuffle\n",
        "from sklearn.metrics import confusion_matrix\n",
        "from sklearn.model_selection import train_test_split\n",
        "import matplotlib.pyplot as plt"
      ],
      "execution_count": null,
      "outputs": []
    },
    {
      "cell_type": "markdown",
      "metadata": {
        "id": "GGSQJottMEf_"
      },
      "source": [
        "## Done only once"
      ]
    },
    {
      "cell_type": "code",
      "metadata": {
        "colab": {
          "base_uri": "https://localhost:8080/"
        },
        "id": "Ap4lWHWbDwmy",
        "outputId": "5156f28b-ffc1-420d-d820-bcac0f785472"
      },
      "source": [
        "!pip install --upgrade --force-reinstall --no-deps kaggle\n",
        "!mkdir -p ~/.kaggle\n",
        "!cp kaggle.json ~/.kaggle/\n",
        "!chmod 600 ~/.kaggle/kaggle.json\n",
        "!kaggle competitions download -c machathon2-qualifications"
      ],
      "execution_count": null,
      "outputs": [
        {
          "output_type": "stream",
          "text": [
            "Collecting kaggle\n",
            "\u001b[?25l  Downloading https://files.pythonhosted.org/packages/3a/e7/3bac01547d2ed3d308ac92a0878fbdb0ed0f3d41fb1906c319ccbba1bfbc/kaggle-1.5.12.tar.gz (58kB)\n",
            "\r\u001b[K     |█████▋                          | 10kB 22.1MB/s eta 0:00:01\r\u001b[K     |███████████▏                    | 20kB 28.5MB/s eta 0:00:01\r\u001b[K     |████████████████▊               | 30kB 33.1MB/s eta 0:00:01\r\u001b[K     |██████████████████████▎         | 40kB 31.8MB/s eta 0:00:01\r\u001b[K     |███████████████████████████▉    | 51kB 32.1MB/s eta 0:00:01\r\u001b[K     |████████████████████████████████| 61kB 8.5MB/s \n",
            "\u001b[?25hBuilding wheels for collected packages: kaggle\n",
            "  Building wheel for kaggle (setup.py) ... \u001b[?25l\u001b[?25hdone\n",
            "  Created wheel for kaggle: filename=kaggle-1.5.12-cp37-none-any.whl size=73053 sha256=3193851114f399226e24de016e888d3cf0fd07318770224371928fa1c824544c\n",
            "  Stored in directory: /root/.cache/pip/wheels/a1/6a/26/d30b7499ff85a4a4593377a87ecf55f7d08af42f0de9b60303\n",
            "Successfully built kaggle\n",
            "Installing collected packages: kaggle\n",
            "  Found existing installation: kaggle 1.5.12\n",
            "    Uninstalling kaggle-1.5.12:\n",
            "      Successfully uninstalled kaggle-1.5.12\n",
            "Successfully installed kaggle-1.5.12\n",
            "Downloading machathon2-qualifications.zip to /content\n",
            "  0% 0.00/953k [00:00<?, ?B/s]\n",
            "100% 953k/953k [00:00<00:00, 144MB/s]\n"
          ],
          "name": "stdout"
        }
      ]
    },
    {
      "cell_type": "code",
      "metadata": {
        "colab": {
          "base_uri": "https://localhost:8080/"
        },
        "id": "U6ywX63rgR5p",
        "outputId": "b7cec83c-0b3f-4b1b-ccfb-0f8e895de8c6"
      },
      "source": [
        "import zipfile\n",
        "filename = \"machathon2-qualifications.zip\"\n",
        "with zipfile.ZipFile(filename, 'r') as zipf:\n",
        "  zipf.extractall()\n",
        "  print(\"Done\")"
      ],
      "execution_count": null,
      "outputs": [
        {
          "output_type": "stream",
          "text": [
            "Done\n"
          ],
          "name": "stdout"
        }
      ]
    },
    {
      "cell_type": "code",
      "metadata": {
        "id": "ZZEFvXv2SqUg"
      },
      "source": [
        "with open('labels.txt', 'r') as f:\n",
        "  label2name = f.readlines()\n",
        "  label2name = [name.replace('\\n', '') for name in label2name]"
      ],
      "execution_count": null,
      "outputs": []
    },
    {
      "cell_type": "code",
      "metadata": {
        "id": "YHDy4zTvy-uJ"
      },
      "source": [
        "import pandas as pd\n",
        "\n",
        "data = pd.read_csv('train.csv')\n",
        "train_data = data[:19900]\n",
        "test_data = data[19900:]"
      ],
      "execution_count": null,
      "outputs": []
    },
    {
      "cell_type": "code",
      "metadata": {
        "id": "67IXcJ2LzBty"
      },
      "source": [
        "x_train = np.array(train_data['data'])\n",
        "y_train  = np.array(train_data['labels'])\n",
        "\n",
        "x_test = np.array(test_data['data'])\n",
        "y_test = np.array(test_data['labels'])"
      ],
      "execution_count": null,
      "outputs": []
    },
    {
      "cell_type": "code",
      "metadata": {
        "colab": {
          "base_uri": "https://localhost:8080/"
        },
        "id": "c9cowTBJzBrx",
        "outputId": "7d23c02e-82d4-4356-b86b-43b499579431"
      },
      "source": [
        "execluded = '!()*-ـ.:=o[]«»;؛,،~?؟\\u200f\\ufeffـ'\n",
        "\n",
        "for i in tqdm(range(len(x_train))):\n",
        "  out = \"\"\n",
        "  #x_train[i] = araby.strip_tashkeel(x_train[i])\n",
        "  for c in x_train[i]:\n",
        "    if c not in execluded:\n",
        "      out += c\n",
        "  x_train[i] = out\n",
        "\n",
        "for i in tqdm(range(len(x_test))):\n",
        "  out = \"\"\n",
        "  #x_test[i] = araby.strip_tashkeel(x_test[i])\n",
        "  for c in x_test[i]:\n",
        "    if c not in execluded:\n",
        "      out += c\n",
        "  x_test[i] = out"
      ],
      "execution_count": null,
      "outputs": [
        {
          "output_type": "stream",
          "text": [
            "100%|██████████| 19900/19900 [00:00<00:00, 66350.38it/s]\n",
            "100%|██████████| 100/100 [00:00<00:00, 31559.85it/s]\n"
          ],
          "name": "stderr"
        }
      ]
    },
    {
      "cell_type": "code",
      "metadata": {
        "id": "ROef8aerf8ar"
      },
      "source": [
        "X_train, X_valid , y_train, y_valid = train_test_split(x_train, y_train, test_size = 0.1, random_state = 41)"
      ],
      "execution_count": null,
      "outputs": []
    },
    {
      "cell_type": "code",
      "metadata": {
        "id": "63NiojywQ18F"
      },
      "source": [
        "# Creating a mapping from unique characters to indices\n",
        "vocab = set(' '.join(x_train))\n",
        "char2idx = {u:i+1 for i, u in enumerate(vocab)}\n",
        "\n",
        "def to_sequences(X):\n",
        "  X = [[char2idx[char] for char in line] for line in X]\n",
        "  X = pad_sequences(X, padding='post', value=0, maxlen = 100)\n",
        "  return X\n",
        " \n",
        "X_train = to_sequences(X_train)\n",
        "X_valid = to_sequences(X_valid)\n",
        "\n",
        "y_train = np.array(y_train)\n",
        "y_valid = np.array(y_valid)"
      ],
      "execution_count": null,
      "outputs": []
    },
    {
      "cell_type": "markdown",
      "metadata": {
        "id": "kfnb_kWlHc9P"
      },
      "source": [
        "## My model"
      ]
    },
    {
      "cell_type": "code",
      "metadata": {
        "colab": {
          "base_uri": "https://localhost:8080/"
        },
        "id": "mLvkEpdZ3ipJ",
        "outputId": "b05c364e-550e-41e6-a7ee-fa369e1529c5"
      },
      "source": [
        "## Steps taken to get the 95% accuracy:\n",
        "\n",
        "### Training 40 epochs on the first Model, then realoading the same weights \n",
        "### following up with 20 epochs on the second model which only differs from\n",
        "### the first in the dropout layers\n",
        "\n",
        "from tensorflow import keras\n",
        "\n",
        "\n",
        "############### 40 epochs #########\n",
        "\n",
        "model = Sequential()\n",
        "model.add(Input((100,)))\n",
        "model.add(Embedding(len(char2idx)+1,256))\n",
        "model.add(Bidirectional(tf.keras.layers.LSTM(units = 256, return_sequences=True)))\n",
        "model.add(Dropout(0.7))##0.75 now\n",
        "#model.add(Bidirectional(tf.keras.layers.LSTM(units = 512, return_sequences=True)))\n",
        "#model.add(Dropout(0.75))\n",
        "model.add(Bidirectional(tf.keras.layers.LSTM(units = 1024)))\n",
        "model.add(Dropout(0.75)) ## 0.8 now\n",
        "model.add(Dense((512), activation = 'relu'))\n",
        "model.add(Dropout(0.75)) ## 0.8 now\n",
        "model.add(Dense(len(label2name), activation = 'softmax'))\n",
        "model.compile(optimizer = 'adam', loss = 'sparse_categorical_crossentropy', metrics = ['accuracy'])\n",
        "\n",
        "##### + ########\n",
        "\n",
        "############### 20 epochs #########\n",
        "\n",
        "model = Sequential()\n",
        "model.add(Input((100,)))\n",
        "model.add(Embedding(len(char2idx)+1,256))\n",
        "model.add(Bidirectional(tf.keras.layers.LSTM(units = 256, return_sequences=True)))\n",
        "model.add(Dropout(0.75))##0.8 now\n",
        "#model.add(Bidirectional(tf.keras.layers.LSTM(units = 512, return_sequences=True)))\n",
        "#model.add(Dropout(0.75))\n",
        "model.add(Bidirectional(tf.keras.layers.LSTM(units = 1024)))\n",
        "model.add(Dropout(0.8)) ## 0.8 now\n",
        "model.add(Dense((512), activation = 'relu'))\n",
        "model.add(Dropout(0.8)) ## 0.85 now\n",
        "model.add(Dense(len(label2name), activation = 'softmax'))\n",
        "model.compile(optimizer = 'adam', loss = 'sparse_categorical_crossentropy', metrics = ['accuracy'])"
      ],
      "execution_count": null,
      "outputs": [
        {
          "output_type": "stream",
          "text": [
            "WARNING:tensorflow:Please add `keras.layers.InputLayer` instead of `keras.Input` to Sequential model. `keras.Input` is intended to be used by Functional model.\n",
            "WARNING:tensorflow:Please add `keras.layers.InputLayer` instead of `keras.Input` to Sequential model. `keras.Input` is intended to be used by Functional model.\n"
          ],
          "name": "stdout"
        }
      ]
    },
    {
      "cell_type": "markdown",
      "metadata": {
        "id": "77bMVDU3Vwne"
      },
      "source": [
        "## Model summary"
      ]
    },
    {
      "cell_type": "code",
      "metadata": {
        "colab": {
          "base_uri": "https://localhost:8080/"
        },
        "id": "7imJBjJHxK1-",
        "outputId": "2618ce1a-008e-4f3f-8262-e189783a2960"
      },
      "source": [
        "model.summary()"
      ],
      "execution_count": null,
      "outputs": [
        {
          "output_type": "stream",
          "text": [
            "Model: \"sequential_3\"\n",
            "_________________________________________________________________\n",
            "Layer (type)                 Output Shape              Param #   \n",
            "=================================================================\n",
            "embedding_3 (Embedding)      (None, 100, 256)          12032     \n",
            "_________________________________________________________________\n",
            "bidirectional_7 (Bidirection (None, 100, 512)          1050624   \n",
            "_________________________________________________________________\n",
            "dropout_10 (Dropout)         (None, 100, 512)          0         \n",
            "_________________________________________________________________\n",
            "bidirectional_8 (Bidirection (None, 2048)              12591104  \n",
            "_________________________________________________________________\n",
            "dropout_11 (Dropout)         (None, 2048)              0         \n",
            "_________________________________________________________________\n",
            "dense_6 (Dense)              (None, 512)               1049088   \n",
            "_________________________________________________________________\n",
            "dropout_12 (Dropout)         (None, 512)               0         \n",
            "_________________________________________________________________\n",
            "dense_7 (Dense)              (None, 14)                7182      \n",
            "=================================================================\n",
            "Total params: 14,710,030\n",
            "Trainable params: 14,710,030\n",
            "Non-trainable params: 0\n",
            "_________________________________________________________________\n"
          ],
          "name": "stdout"
        }
      ]
    },
    {
      "cell_type": "markdown",
      "metadata": {
        "id": "4zTv8rvbgxQU"
      },
      "source": [
        "## training"
      ]
    },
    {
      "cell_type": "code",
      "metadata": {
        "id": "nEHRYgLhkozM"
      },
      "source": [
        "## Creating a callback to recall best accuracy achieved on the validation set\n",
        "\n",
        "callbacks = [tf.keras.callbacks.ReduceLROnPlateau(monitor='val_loss', factor=0.1, patience=2, min_delta=0.0001, min_lr=0.0001)]\n",
        "callbacks += [tf.keras.callbacks.ModelCheckpoint('full_verse.h5', monitor='val_accuracy', verbose=1, save_best_only=True, mode='max')]"
      ],
      "execution_count": null,
      "outputs": []
    },
    {
      "cell_type": "code",
      "metadata": {
        "colab": {
          "base_uri": "https://localhost:8080/"
        },
        "id": "UDKuabWJgwtG",
        "outputId": "9635d50a-0be2-4d40-d9bd-ae3086a5611c"
      },
      "source": [
        "model.fit(X_train, y_train, validation_data= (X_valid, y_valid), epochs = 30, batch_size= 32, shuffle = True, callbacks=callbacks)"
      ],
      "execution_count": null,
      "outputs": [
        {
          "output_type": "stream",
          "text": [
            "Epoch 1/30\n",
            "560/560 [==============================] - 70s 116ms/step - loss: 2.4879 - accuracy: 0.1265 - val_loss: 2.3172 - val_accuracy: 0.1739\n",
            "\n",
            "Epoch 00001: val_accuracy improved from -inf to 0.17387, saving model to full_verse.h5\n",
            "Epoch 2/30\n",
            "560/560 [==============================] - 63s 113ms/step - loss: 2.2647 - accuracy: 0.1960 - val_loss: 2.1329 - val_accuracy: 0.2367\n",
            "\n",
            "Epoch 00002: val_accuracy improved from 0.17387 to 0.23668, saving model to full_verse.h5\n",
            "Epoch 3/30\n",
            "560/560 [==============================] - 63s 112ms/step - loss: 1.8096 - accuracy: 0.3603 - val_loss: 1.2206 - val_accuracy: 0.5543\n",
            "\n",
            "Epoch 00003: val_accuracy improved from 0.23668 to 0.55427, saving model to full_verse.h5\n",
            "Epoch 4/30\n",
            "560/560 [==============================] - 63s 112ms/step - loss: 1.1962 - accuracy: 0.6111 - val_loss: 1.1215 - val_accuracy: 0.6477\n",
            "\n",
            "Epoch 00004: val_accuracy improved from 0.55427 to 0.64774, saving model to full_verse.h5\n",
            "Epoch 5/30\n",
            "560/560 [==============================] - 63s 113ms/step - loss: 0.8993 - accuracy: 0.7304 - val_loss: 0.5875 - val_accuracy: 0.8357\n",
            "\n",
            "Epoch 00005: val_accuracy improved from 0.64774 to 0.83568, saving model to full_verse.h5\n",
            "Epoch 6/30\n",
            "560/560 [==============================] - 64s 114ms/step - loss: 0.6804 - accuracy: 0.8073 - val_loss: 0.5068 - val_accuracy: 0.8593\n",
            "\n",
            "Epoch 00006: val_accuracy improved from 0.83568 to 0.85930, saving model to full_verse.h5\n",
            "Epoch 7/30\n",
            "560/560 [==============================] - 64s 114ms/step - loss: 0.5617 - accuracy: 0.8418 - val_loss: 0.4220 - val_accuracy: 0.8829\n",
            "\n",
            "Epoch 00007: val_accuracy improved from 0.85930 to 0.88291, saving model to full_verse.h5\n",
            "Epoch 8/30\n",
            "560/560 [==============================] - 63s 113ms/step - loss: 0.5068 - accuracy: 0.8626 - val_loss: 0.3617 - val_accuracy: 0.9015\n",
            "\n",
            "Epoch 00008: val_accuracy improved from 0.88291 to 0.90151, saving model to full_verse.h5\n",
            "Epoch 9/30\n",
            "560/560 [==============================] - 64s 114ms/step - loss: 0.4311 - accuracy: 0.8851 - val_loss: 0.3446 - val_accuracy: 0.9090\n",
            "\n",
            "Epoch 00009: val_accuracy improved from 0.90151 to 0.90905, saving model to full_verse.h5\n",
            "Epoch 10/30\n",
            "560/560 [==============================] - 64s 114ms/step - loss: 0.4166 - accuracy: 0.8889 - val_loss: 0.3326 - val_accuracy: 0.9121\n",
            "\n",
            "Epoch 00010: val_accuracy improved from 0.90905 to 0.91206, saving model to full_verse.h5\n",
            "Epoch 11/30\n",
            "560/560 [==============================] - 64s 114ms/step - loss: 0.3721 - accuracy: 0.9041 - val_loss: 0.3303 - val_accuracy: 0.9156\n",
            "\n",
            "Epoch 00011: val_accuracy improved from 0.91206 to 0.91558, saving model to full_verse.h5\n",
            "Epoch 12/30\n",
            "560/560 [==============================] - 64s 114ms/step - loss: 0.3527 - accuracy: 0.9092 - val_loss: 0.3259 - val_accuracy: 0.9146\n",
            "\n",
            "Epoch 00012: val_accuracy did not improve from 0.91558\n",
            "Epoch 13/30\n",
            "560/560 [==============================] - 63s 113ms/step - loss: 0.3271 - accuracy: 0.9162 - val_loss: 0.3081 - val_accuracy: 0.9286\n",
            "\n",
            "Epoch 00013: val_accuracy improved from 0.91558 to 0.92864, saving model to full_verse.h5\n",
            "Epoch 14/30\n",
            "560/560 [==============================] - 64s 114ms/step - loss: 0.3521 - accuracy: 0.9092 - val_loss: 0.3122 - val_accuracy: 0.9241\n",
            "\n",
            "Epoch 00014: val_accuracy did not improve from 0.92864\n",
            "Epoch 15/30\n",
            "560/560 [==============================] - 64s 114ms/step - loss: 0.2883 - accuracy: 0.9267 - val_loss: 0.3222 - val_accuracy: 0.9286\n",
            "\n",
            "Epoch 00015: val_accuracy did not improve from 0.92864\n",
            "Epoch 16/30\n",
            "560/560 [==============================] - 64s 114ms/step - loss: 0.2298 - accuracy: 0.9433 - val_loss: 0.2760 - val_accuracy: 0.9432\n",
            "\n",
            "Epoch 00016: val_accuracy improved from 0.92864 to 0.94322, saving model to full_verse.h5\n",
            "Epoch 17/30\n",
            "560/560 [==============================] - 64s 114ms/step - loss: 0.2042 - accuracy: 0.9492 - val_loss: 0.2722 - val_accuracy: 0.9457\n",
            "\n",
            "Epoch 00017: val_accuracy improved from 0.94322 to 0.94573, saving model to full_verse.h5\n",
            "Epoch 18/30\n",
            "560/560 [==============================] - 64s 114ms/step - loss: 0.1918 - accuracy: 0.9538 - val_loss: 0.2651 - val_accuracy: 0.9457\n",
            "\n",
            "Epoch 00018: val_accuracy did not improve from 0.94573\n",
            "Epoch 19/30\n",
            "560/560 [==============================] - 64s 114ms/step - loss: 0.1770 - accuracy: 0.9578 - val_loss: 0.2662 - val_accuracy: 0.9462\n",
            "\n",
            "Epoch 00019: val_accuracy improved from 0.94573 to 0.94623, saving model to full_verse.h5\n",
            "Epoch 20/30\n",
            "560/560 [==============================] - 64s 114ms/step - loss: 0.1673 - accuracy: 0.9594 - val_loss: 0.2695 - val_accuracy: 0.9437\n",
            "\n",
            "Epoch 00020: val_accuracy did not improve from 0.94623\n",
            "Epoch 21/30\n",
            "560/560 [==============================] - 64s 114ms/step - loss: 0.1589 - accuracy: 0.9616 - val_loss: 0.2706 - val_accuracy: 0.9452\n",
            "\n",
            "Epoch 00021: val_accuracy did not improve from 0.94623\n",
            "Epoch 22/30\n",
            "560/560 [==============================] - 64s 114ms/step - loss: 0.1498 - accuracy: 0.9618 - val_loss: 0.2734 - val_accuracy: 0.9452\n",
            "\n",
            "Epoch 00022: val_accuracy did not improve from 0.94623\n",
            "Epoch 23/30\n",
            "560/560 [==============================] - 64s 114ms/step - loss: 0.1471 - accuracy: 0.9645 - val_loss: 0.2882 - val_accuracy: 0.9437\n",
            "\n",
            "Epoch 00023: val_accuracy did not improve from 0.94623\n",
            "Epoch 24/30\n",
            "560/560 [==============================] - 64s 114ms/step - loss: 0.1372 - accuracy: 0.9657 - val_loss: 0.2870 - val_accuracy: 0.9437\n",
            "\n",
            "Epoch 00024: val_accuracy did not improve from 0.94623\n",
            "Epoch 25/30\n",
            "560/560 [==============================] - 64s 114ms/step - loss: 0.1334 - accuracy: 0.9672 - val_loss: 0.3011 - val_accuracy: 0.9427\n",
            "\n",
            "Epoch 00025: val_accuracy did not improve from 0.94623\n",
            "Epoch 26/30\n",
            "560/560 [==============================] - 64s 114ms/step - loss: 0.1326 - accuracy: 0.9675 - val_loss: 0.3044 - val_accuracy: 0.9427\n",
            "\n",
            "Epoch 00026: val_accuracy did not improve from 0.94623\n",
            "Epoch 27/30\n",
            "560/560 [==============================] - 64s 114ms/step - loss: 0.1281 - accuracy: 0.9686 - val_loss: 0.2946 - val_accuracy: 0.9437\n",
            "\n",
            "Epoch 00027: val_accuracy did not improve from 0.94623\n",
            "Epoch 28/30\n",
            "560/560 [==============================] - 64s 114ms/step - loss: 0.1171 - accuracy: 0.9712 - val_loss: 0.2991 - val_accuracy: 0.9447\n",
            "\n",
            "Epoch 00028: val_accuracy did not improve from 0.94623\n",
            "Epoch 29/30\n",
            "560/560 [==============================] - 64s 113ms/step - loss: 0.1174 - accuracy: 0.9693 - val_loss: 0.3078 - val_accuracy: 0.9427\n",
            "\n",
            "Epoch 00029: val_accuracy did not improve from 0.94623\n",
            "Epoch 30/30\n",
            "560/560 [==============================] - 64s 114ms/step - loss: 0.1127 - accuracy: 0.9711 - val_loss: 0.3143 - val_accuracy: 0.9457\n",
            "\n",
            "Epoch 00030: val_accuracy did not improve from 0.94623\n"
          ],
          "name": "stdout"
        },
        {
          "output_type": "execute_result",
          "data": {
            "text/plain": [
              "<tensorflow.python.keras.callbacks.History at 0x7fc77a61be50>"
            ]
          },
          "metadata": {
            "tags": []
          },
          "execution_count": 55
        }
      ]
    },
    {
      "cell_type": "code",
      "metadata": {
        "colab": {
          "base_uri": "https://localhost:8080/"
        },
        "id": "5Tx6GIYvYdAw",
        "outputId": "3861aea3-5622-4e4c-f99d-517c3fc32500"
      },
      "source": [
        "model.fit(X_train, y_train, validation_data= (X_valid, y_valid), epochs = 30, batch_size= 32, shuffle = True, callbacks=callbacks)"
      ],
      "execution_count": null,
      "outputs": [
        {
          "output_type": "stream",
          "text": [
            "Epoch 1/30\n",
            "560/560 [==============================] - 69s 116ms/step - loss: 2.5330 - accuracy: 0.1173 - val_loss: 2.3200 - val_accuracy: 0.1774\n",
            "\n",
            "Epoch 00001: val_accuracy did not improve from 0.94623\n",
            "Epoch 2/30\n",
            "560/560 [==============================] - 63s 112ms/step - loss: 2.3548 - accuracy: 0.1711 - val_loss: 2.2481 - val_accuracy: 0.2090\n",
            "\n",
            "Epoch 00002: val_accuracy did not improve from 0.94623\n",
            "Epoch 3/30\n",
            "560/560 [==============================] - 63s 112ms/step - loss: 2.2656 - accuracy: 0.1823 - val_loss: 2.1516 - val_accuracy: 0.2136\n",
            "\n",
            "Epoch 00003: val_accuracy did not improve from 0.94623\n",
            "Epoch 4/30\n",
            "560/560 [==============================] - 63s 112ms/step - loss: 2.1104 - accuracy: 0.2237 - val_loss: 1.9447 - val_accuracy: 0.2915\n",
            "\n",
            "Epoch 00004: val_accuracy did not improve from 0.94623\n",
            "Epoch 5/30\n",
            "560/560 [==============================] - 63s 113ms/step - loss: 1.9028 - accuracy: 0.2942 - val_loss: 1.7354 - val_accuracy: 0.3678\n",
            "\n",
            "Epoch 00005: val_accuracy did not improve from 0.94623\n",
            "Epoch 6/30\n",
            "560/560 [==============================] - 63s 113ms/step - loss: 1.7236 - accuracy: 0.3774 - val_loss: 1.3690 - val_accuracy: 0.5090\n",
            "\n",
            "Epoch 00006: val_accuracy did not improve from 0.94623\n",
            "Epoch 7/30\n",
            "560/560 [==============================] - 63s 112ms/step - loss: 1.3291 - accuracy: 0.5403 - val_loss: 1.0067 - val_accuracy: 0.6633\n",
            "\n",
            "Epoch 00007: val_accuracy did not improve from 0.94623\n",
            "Epoch 8/30\n",
            "560/560 [==============================] - 63s 112ms/step - loss: 1.1176 - accuracy: 0.6168 - val_loss: 0.8546 - val_accuracy: 0.7065\n",
            "\n",
            "Epoch 00008: val_accuracy did not improve from 0.94623\n",
            "Epoch 9/30\n",
            "560/560 [==============================] - 63s 113ms/step - loss: 0.9958 - accuracy: 0.6691 - val_loss: 0.7653 - val_accuracy: 0.7302\n",
            "\n",
            "Epoch 00009: val_accuracy did not improve from 0.94623\n",
            "Epoch 10/30\n",
            "560/560 [==============================] - 63s 112ms/step - loss: 0.8908 - accuracy: 0.7119 - val_loss: 0.6280 - val_accuracy: 0.8060\n",
            "\n",
            "Epoch 00010: val_accuracy did not improve from 0.94623\n",
            "Epoch 11/30\n",
            "560/560 [==============================] - 63s 112ms/step - loss: 0.7718 - accuracy: 0.7666 - val_loss: 0.5933 - val_accuracy: 0.8226\n",
            "\n",
            "Epoch 00011: val_accuracy did not improve from 0.94623\n",
            "Epoch 12/30\n",
            "560/560 [==============================] - 63s 112ms/step - loss: 0.7050 - accuracy: 0.7888 - val_loss: 0.5263 - val_accuracy: 0.8281\n",
            "\n",
            "Epoch 00012: val_accuracy did not improve from 0.94623\n",
            "Epoch 13/30\n",
            "560/560 [==============================] - 63s 113ms/step - loss: 0.6635 - accuracy: 0.8019 - val_loss: 0.4978 - val_accuracy: 0.8563\n",
            "\n",
            "Epoch 00013: val_accuracy did not improve from 0.94623\n",
            "Epoch 14/30\n",
            "560/560 [==============================] - 63s 113ms/step - loss: 0.5880 - accuracy: 0.8292 - val_loss: 0.4539 - val_accuracy: 0.8709\n",
            "\n",
            "Epoch 00014: val_accuracy did not improve from 0.94623\n",
            "Epoch 15/30\n",
            "560/560 [==============================] - 63s 113ms/step - loss: 0.6796 - accuracy: 0.8261 - val_loss: 0.4424 - val_accuracy: 0.8754\n",
            "\n",
            "Epoch 00015: val_accuracy did not improve from 0.94623\n",
            "Epoch 16/30\n",
            "560/560 [==============================] - 63s 113ms/step - loss: 0.5138 - accuracy: 0.8534 - val_loss: 0.4527 - val_accuracy: 0.8709\n",
            "\n",
            "Epoch 00016: val_accuracy did not improve from 0.94623\n",
            "Epoch 17/30\n",
            "560/560 [==============================] - 63s 113ms/step - loss: 0.4695 - accuracy: 0.8678 - val_loss: 0.3738 - val_accuracy: 0.8975\n",
            "\n",
            "Epoch 00017: val_accuracy did not improve from 0.94623\n",
            "Epoch 18/30\n",
            "560/560 [==============================] - 63s 113ms/step - loss: 0.4700 - accuracy: 0.8702 - val_loss: 0.4050 - val_accuracy: 0.8859\n",
            "\n",
            "Epoch 00018: val_accuracy did not improve from 0.94623\n",
            "Epoch 19/30\n",
            "560/560 [==============================] - 63s 112ms/step - loss: 0.4243 - accuracy: 0.8816 - val_loss: 0.3371 - val_accuracy: 0.9075\n",
            "\n",
            "Epoch 00019: val_accuracy did not improve from 0.94623\n",
            "Epoch 20/30\n",
            "560/560 [==============================] - 63s 112ms/step - loss: 0.4016 - accuracy: 0.8899 - val_loss: 0.3487 - val_accuracy: 0.9065\n",
            "\n",
            "Epoch 00020: val_accuracy did not improve from 0.94623\n",
            "Epoch 21/30\n",
            "560/560 [==============================] - 63s 112ms/step - loss: 0.3832 - accuracy: 0.8991 - val_loss: 0.3540 - val_accuracy: 0.9055\n",
            "\n",
            "Epoch 00021: val_accuracy did not improve from 0.94623\n",
            "Epoch 22/30\n",
            "560/560 [==============================] - 63s 112ms/step - loss: 0.3063 - accuracy: 0.9173 - val_loss: 0.3090 - val_accuracy: 0.9181\n",
            "\n",
            "Epoch 00022: val_accuracy did not improve from 0.94623\n",
            "Epoch 23/30\n",
            "560/560 [==============================] - 63s 113ms/step - loss: 0.2713 - accuracy: 0.9293 - val_loss: 0.3062 - val_accuracy: 0.9231\n",
            "\n",
            "Epoch 00023: val_accuracy did not improve from 0.94623\n",
            "Epoch 24/30\n",
            "560/560 [==============================] - 63s 113ms/step - loss: 0.2595 - accuracy: 0.9319 - val_loss: 0.3123 - val_accuracy: 0.9221\n",
            "\n",
            "Epoch 00024: val_accuracy did not improve from 0.94623\n",
            "Epoch 25/30\n",
            "560/560 [==============================] - 63s 113ms/step - loss: 0.2378 - accuracy: 0.9358 - val_loss: 0.3205 - val_accuracy: 0.9221\n",
            "\n",
            "Epoch 00025: val_accuracy did not improve from 0.94623\n",
            "Epoch 26/30\n",
            "560/560 [==============================] - 63s 113ms/step - loss: 0.2296 - accuracy: 0.9383 - val_loss: 0.3273 - val_accuracy: 0.9191\n",
            "\n",
            "Epoch 00026: val_accuracy did not improve from 0.94623\n",
            "Epoch 27/30\n",
            "560/560 [==============================] - 63s 112ms/step - loss: 0.2201 - accuracy: 0.9424 - val_loss: 0.3286 - val_accuracy: 0.9196\n",
            "\n",
            "Epoch 00027: val_accuracy did not improve from 0.94623\n",
            "Epoch 28/30\n",
            "560/560 [==============================] - 63s 112ms/step - loss: 0.2090 - accuracy: 0.9443 - val_loss: 0.3296 - val_accuracy: 0.9201\n",
            "\n",
            "Epoch 00028: val_accuracy did not improve from 0.94623\n",
            "Epoch 29/30\n",
            "560/560 [==============================] - 63s 112ms/step - loss: 0.1993 - accuracy: 0.9461 - val_loss: 0.3373 - val_accuracy: 0.9206\n",
            "\n",
            "Epoch 00029: val_accuracy did not improve from 0.94623\n",
            "Epoch 30/30\n",
            "560/560 [==============================] - 63s 112ms/step - loss: 0.1949 - accuracy: 0.9494 - val_loss: 0.3329 - val_accuracy: 0.9181\n",
            "\n",
            "Epoch 00030: val_accuracy did not improve from 0.94623\n"
          ],
          "name": "stdout"
        },
        {
          "output_type": "execute_result",
          "data": {
            "text/plain": [
              "<tensorflow.python.keras.callbacks.History at 0x7fc6eaeae350>"
            ]
          },
          "metadata": {
            "tags": []
          },
          "execution_count": 81
        }
      ]
    },
    {
      "cell_type": "markdown",
      "metadata": {
        "id": "vWjHefZ-Pt0x"
      },
      "source": [
        "## after modelig"
      ]
    },
    {
      "cell_type": "code",
      "metadata": {
        "id": "PHkvi5wQyJ8D"
      },
      "source": [
        "## Loading best weights\n",
        "\n",
        "model = tf.keras.models.load_model('full_verse.h5')"
      ],
      "execution_count": null,
      "outputs": []
    },
    {
      "cell_type": "markdown",
      "metadata": {
        "id": "yNVUveHMUmL2"
      },
      "source": [
        "## Classify on the test set splitted from the dataset "
      ]
    },
    {
      "cell_type": "code",
      "metadata": {
        "id": "yzKt1Nkm4E1q"
      },
      "source": [
        "def classify(sentence):\n",
        "\n",
        "  sequence = [char2idx[char] for char in sentence]\n",
        "  sequence = pad_sequences([sequence], maxlen = X_train.shape[1], padding='post', value=0)\n",
        "\n",
        "  pred = model.predict(sequence)[0]\n",
        "  pred = np.argmax(pred, 0)\n",
        "  return pred"
      ],
      "execution_count": null,
      "outputs": []
    },
    {
      "cell_type": "code",
      "metadata": {
        "colab": {
          "base_uri": "https://localhost:8080/"
        },
        "id": "XRK62RLV-I1e",
        "outputId": "c39ca223-d17a-4259-8c39-dc9cef8a718a"
      },
      "source": [
        "prediction = []\n",
        "for i in tqdm(range(len(x_test))):\n",
        "    prediction.append(classify(x_test[i]))"
      ],
      "execution_count": null,
      "outputs": [
        {
          "output_type": "stream",
          "text": [
            "100%|██████████| 100/100 [00:07<00:00, 14.28it/s]\n"
          ],
          "name": "stderr"
        }
      ]
    },
    {
      "cell_type": "code",
      "metadata": {
        "colab": {
          "base_uri": "https://localhost:8080/"
        },
        "id": "brPcXOuU4Tzs",
        "outputId": "66b190fb-2238-4523-82fb-7d40bd5a87d0"
      },
      "source": [
        "from sklearn.metrics import classification_report\n",
        "print(classification_report(y_test, prediction))"
      ],
      "execution_count": null,
      "outputs": [
        {
          "output_type": "stream",
          "text": [
            "              precision    recall  f1-score   support\n",
            "\n",
            "           0       0.90      0.90      0.90        10\n",
            "           1       0.80      1.00      0.89         8\n",
            "           2       1.00      1.00      1.00        10\n",
            "           3       1.00      1.00      1.00         3\n",
            "           4       1.00      0.90      0.95        10\n",
            "           5       1.00      1.00      1.00         1\n",
            "           6       1.00      1.00      1.00         2\n",
            "           7       1.00      1.00      1.00        12\n",
            "           8       1.00      0.90      0.95        10\n",
            "           9       1.00      1.00      1.00        10\n",
            "          10       1.00      1.00      1.00         5\n",
            "          11       0.89      1.00      0.94         8\n",
            "          12       1.00      1.00      1.00         1\n",
            "          13       0.89      0.80      0.84        10\n",
            "\n",
            "    accuracy                           0.95       100\n",
            "   macro avg       0.96      0.96      0.96       100\n",
            "weighted avg       0.95      0.95      0.95       100\n",
            "\n"
          ],
          "name": "stdout"
        }
      ]
    },
    {
      "cell_type": "markdown",
      "metadata": {
        "id": "BbLRA6M1qHIa"
      },
      "source": [
        "## Concatenate  to get ' High results '\n",
        "Concatenate the training data with the predictions made in order to get a higher generalization of the process"
      ]
    },
    {
      "cell_type": "code",
      "metadata": {
        "id": "zK5_CtLVqI0h"
      },
      "source": [
        "X_test = to_sequences(x_test)\n",
        "TEST = to_sequences(test)\n",
        "Preds = np.array(preds)\n",
        "Y_test = np.array(y_test)\n",
        "X_total = np.concatenate((X_train,X_test,TEST),axis=0)\n",
        "y_total = np.concatenate((y_train,Y_test,Preds),axis=0)"
      ],
      "execution_count": null,
      "outputs": []
    },
    {
      "cell_type": "code",
      "metadata": {
        "colab": {
          "base_uri": "https://localhost:8080/"
        },
        "id": "G_JdCEYsqI5-",
        "outputId": "a812191b-92d3-47a7-de88-2659eebe0c5e"
      },
      "source": [
        "callbacks2 = [tf.keras.callbacks.ReduceLROnPlateau(monitor='val_loss', factor=0.1, patience=2, min_delta=0.0001, min_lr=0.0001)]\n",
        "callbacks2 += [tf.keras.callbacks.ModelCheckpoint('full_verse2.h5', monitor='val_accuracy', verbose=1, save_best_only=True, mode='max')]\n",
        "\n",
        "model.fit(X_total, y_total, validation_data= (X_valid, y_valid), epochs =6 , batch_size= 32, shuffle = True,callbacks= callbacks2)\n",
        "model = tf.keras.models.load_model('full_verse2.h5')"
      ],
      "execution_count": null,
      "outputs": [
        {
          "output_type": "stream",
          "text": [
            "Epoch 1/6\n",
            "626/626 [==============================] - 74s 115ms/step - loss: 0.0942 - accuracy: 0.9748 - val_loss: 0.3772 - val_accuracy: 0.9538\n",
            "\n",
            "Epoch 00001: val_accuracy improved from -inf to 0.95377, saving model to full_verse2.h5\n",
            "Epoch 2/6\n",
            "626/626 [==============================] - 71s 113ms/step - loss: 0.0926 - accuracy: 0.9756 - val_loss: 0.3740 - val_accuracy: 0.9528\n",
            "\n",
            "Epoch 00002: val_accuracy did not improve from 0.95377\n",
            "Epoch 3/6\n",
            "626/626 [==============================] - 70s 112ms/step - loss: 0.0886 - accuracy: 0.9758 - val_loss: 0.3803 - val_accuracy: 0.9533\n",
            "\n",
            "Epoch 00003: val_accuracy did not improve from 0.95377\n",
            "Epoch 4/6\n",
            "626/626 [==============================] - 70s 112ms/step - loss: 0.0914 - accuracy: 0.9776 - val_loss: 0.3764 - val_accuracy: 0.9528\n",
            "\n",
            "Epoch 00004: val_accuracy did not improve from 0.95377\n",
            "Epoch 5/6\n",
            "626/626 [==============================] - 70s 112ms/step - loss: 0.0891 - accuracy: 0.9765 - val_loss: 0.3895 - val_accuracy: 0.9543\n",
            "\n",
            "Epoch 00005: val_accuracy improved from 0.95377 to 0.95427, saving model to full_verse2.h5\n",
            "Epoch 6/6\n",
            "626/626 [==============================] - 71s 113ms/step - loss: 0.0798 - accuracy: 0.9773 - val_loss: 0.4108 - val_accuracy: 0.9492\n",
            "\n",
            "Epoch 00006: val_accuracy did not improve from 0.95427\n"
          ],
          "name": "stdout"
        }
      ]
    },
    {
      "cell_type": "code",
      "metadata": {
        "id": "sCYbxJtzEzOL"
      },
      "source": [
        "model = tf.keras.models.load_model('full_verse2.h5')"
      ],
      "execution_count": null,
      "outputs": []
    },
    {
      "cell_type": "markdown",
      "metadata": {
        "id": "89N1aajnLHXt"
      },
      "source": [
        "## Submission\n",
        "Submit the predictions"
      ]
    },
    {
      "cell_type": "code",
      "metadata": {
        "colab": {
          "base_uri": "https://localhost:8080/",
          "height": 420
        },
        "id": "79pAD3FE22lf",
        "outputId": "a58173f9-2089-4a05-e422-5c2cb8590d12"
      },
      "source": [
        "submission = pd.read_csv('test.csv')\n",
        "submission"
      ],
      "execution_count": null,
      "outputs": [
        {
          "output_type": "execute_result",
          "data": {
            "text/html": [
              "<div>\n",
              "<style scoped>\n",
              "    .dataframe tbody tr th:only-of-type {\n",
              "        vertical-align: middle;\n",
              "    }\n",
              "\n",
              "    .dataframe tbody tr th {\n",
              "        vertical-align: top;\n",
              "    }\n",
              "\n",
              "    .dataframe thead th {\n",
              "        text-align: right;\n",
              "    }\n",
              "</style>\n",
              "<table border=\"1\" class=\"dataframe\">\n",
              "  <thead>\n",
              "    <tr style=\"text-align: right;\">\n",
              "      <th></th>\n",
              "      <th>id</th>\n",
              "      <th>data</th>\n",
              "    </tr>\n",
              "  </thead>\n",
              "  <tbody>\n",
              "    <tr>\n",
              "      <th>0</th>\n",
              "      <td>0</td>\n",
              "      <td>بلوعة قذف للنية القذف # أخي سنادي معيني قوتي جدتي</td>\n",
              "    </tr>\n",
              "    <tr>\n",
              "      <th>1</th>\n",
              "      <td>1</td>\n",
              "      <td>وعَلِيقِي عليه أَرْخَصُ مِنْ ما # لِ المَوارِي...</td>\n",
              "    </tr>\n",
              "    <tr>\n",
              "      <th>2</th>\n",
              "      <td>2</td>\n",
              "      <td>تنزه في الثغر مبني في # محل العذيب وفي بارق</td>\n",
              "    </tr>\n",
              "    <tr>\n",
              "      <th>3</th>\n",
              "      <td>3</td>\n",
              "      <td>قديرٌ ذو قُدورٍ راسياتٍ # تُقابلُها جِفانٌ كال...</td>\n",
              "    </tr>\n",
              "    <tr>\n",
              "      <th>4</th>\n",
              "      <td>4</td>\n",
              "      <td>وبانبي الهدى وافتك من بعد # مديحة من كثير العي...</td>\n",
              "    </tr>\n",
              "    <tr>\n",
              "      <th>...</th>\n",
              "      <td>...</td>\n",
              "      <td>...</td>\n",
              "    </tr>\n",
              "    <tr>\n",
              "      <th>1995</th>\n",
              "      <td>1995</td>\n",
              "      <td>وَتَنفي الضَفادِعَ أَنفاسُها # فَهُنَّ فُوَيقَ...</td>\n",
              "    </tr>\n",
              "    <tr>\n",
              "      <th>1996</th>\n",
              "      <td>1996</td>\n",
              "      <td>هزّ عِطفَيْهِ النّدى فانتزعا # ما أعارَتْهُ ال...</td>\n",
              "    </tr>\n",
              "    <tr>\n",
              "      <th>1997</th>\n",
              "      <td>1997</td>\n",
              "      <td>لَكِن عَدَتني نائِباتُ النَوى # في دَوحِهِ وَا...</td>\n",
              "    </tr>\n",
              "    <tr>\n",
              "      <th>1998</th>\n",
              "      <td>1998</td>\n",
              "      <td>داجِنٌ بِالطِرادِ يَرمي بِطَرفٍ # في فَضاءٍ وَ...</td>\n",
              "    </tr>\n",
              "    <tr>\n",
              "      <th>1999</th>\n",
              "      <td>1999</td>\n",
              "      <td>لا تَسَلْ عن عِداكَ أين اسْتَقَرّوا # لَحِقَ ا...</td>\n",
              "    </tr>\n",
              "  </tbody>\n",
              "</table>\n",
              "<p>2000 rows × 2 columns</p>\n",
              "</div>"
            ],
            "text/plain": [
              "        id                                               data\n",
              "0        0  بلوعة قذف للنية القذف # أخي سنادي معيني قوتي جدتي\n",
              "1        1  وعَلِيقِي عليه أَرْخَصُ مِنْ ما # لِ المَوارِي...\n",
              "2        2        تنزه في الثغر مبني في # محل العذيب وفي بارق\n",
              "3        3  قديرٌ ذو قُدورٍ راسياتٍ # تُقابلُها جِفانٌ كال...\n",
              "4        4  وبانبي الهدى وافتك من بعد # مديحة من كثير العي...\n",
              "...    ...                                                ...\n",
              "1995  1995  وَتَنفي الضَفادِعَ أَنفاسُها # فَهُنَّ فُوَيقَ...\n",
              "1996  1996  هزّ عِطفَيْهِ النّدى فانتزعا # ما أعارَتْهُ ال...\n",
              "1997  1997  لَكِن عَدَتني نائِباتُ النَوى # في دَوحِهِ وَا...\n",
              "1998  1998  داجِنٌ بِالطِرادِ يَرمي بِطَرفٍ # في فَضاءٍ وَ...\n",
              "1999  1999  لا تَسَلْ عن عِداكَ أين اسْتَقَرّوا # لَحِقَ ا...\n",
              "\n",
              "[2000 rows x 2 columns]"
            ]
          },
          "metadata": {
            "tags": []
          },
          "execution_count": 104
        }
      ]
    },
    {
      "cell_type": "code",
      "metadata": {
        "colab": {
          "base_uri": "https://localhost:8080/"
        },
        "id": "3Nuryo6bAR0b",
        "outputId": "9b1e4773-d81d-4c8f-8e47-13a414f8e9d1"
      },
      "source": [
        "test = np.array(submission['data'])\n",
        "test"
      ],
      "execution_count": null,
      "outputs": [
        {
          "output_type": "execute_result",
          "data": {
            "text/plain": [
              "array(['بلوعة قذف للنية القذف # أخي سنادي معيني قوتي جدتي',\n",
              "       'وعَلِيقِي عليه أَرْخَصُ مِنْ ما # لِ المَوارِيثِ في شِرَا ابنِ جُبَارَهْ',\n",
              "       'تنزه في الثغر مبني في # محل العذيب وفي بارق', ...,\n",
              "       'لَكِن عَدَتني نائِباتُ النَوى # في دَوحِهِ وَالشادنُ الأَحوَرُ',\n",
              "       'داجِنٌ بِالطِرادِ يَرمي بِطَرفٍ # في فَضاءٍ وَفي صَحارٍ بَساطِ',\n",
              "       'لا تَسَلْ عن عِداكَ أين اسْتَقَرّوا # لَحِقَ القَوْمُ باللّطيفِ الخَبيرِ'],\n",
              "      dtype=object)"
            ]
          },
          "metadata": {
            "tags": []
          },
          "execution_count": 105
        }
      ]
    },
    {
      "cell_type": "code",
      "metadata": {
        "colab": {
          "base_uri": "https://localhost:8080/"
        },
        "id": "Kv3zdvuEAgXT",
        "outputId": "902f0c15-d5a9-4463-8d61-06b21cb587c4"
      },
      "source": [
        "for i in tqdm(range(len(test))):\n",
        "  out = \"\"\n",
        "  #test[i] = araby.strip_tashkeel(test[i])\n",
        "  for c in test[i]:\n",
        "    if c not in execluded:\n",
        "      out += c\n",
        "  test[i] = out"
      ],
      "execution_count": null,
      "outputs": [
        {
          "output_type": "stream",
          "text": [
            "100%|██████████| 2000/2000 [00:00<00:00, 58620.19it/s]\n"
          ],
          "name": "stderr"
        }
      ]
    },
    {
      "cell_type": "code",
      "metadata": {
        "colab": {
          "base_uri": "https://localhost:8080/"
        },
        "id": "N5DeIaomALLH",
        "outputId": "ff111112-ee0c-42e7-c0ae-ecb31c1f9a31"
      },
      "source": [
        "preds = []\n",
        "for i in tqdm(range(len(test))):\n",
        "    preds.append(classify(test[i]))"
      ],
      "execution_count": null,
      "outputs": [
        {
          "output_type": "stream",
          "text": [
            "100%|██████████| 2000/2000 [02:01<00:00, 16.51it/s]\n"
          ],
          "name": "stderr"
        }
      ]
    },
    {
      "cell_type": "code",
      "metadata": {
        "id": "Qek1ohwZAFAs"
      },
      "source": [
        "ids = [str(id_val) for id_val in range(submission.shape[0])]\n",
        "sample_submission = pd.DataFrame(np.array([ids,preds]).T,columns=['id','labels'])\n",
        "sample_submission.to_csv(\"sample_submission13_95xxx.csv\",index=False)"
      ],
      "execution_count": null,
      "outputs": []
    },
    {
      "cell_type": "code",
      "metadata": {
        "colab": {
          "base_uri": "https://localhost:8080/",
          "height": 420
        },
        "id": "BVwsT1joBlwD",
        "outputId": "0ee5d4f0-1cc3-41e7-c876-bc18fd9c37c7"
      },
      "source": [
        "sample_submission"
      ],
      "execution_count": null,
      "outputs": [
        {
          "output_type": "execute_result",
          "data": {
            "text/html": [
              "<div>\n",
              "<style scoped>\n",
              "    .dataframe tbody tr th:only-of-type {\n",
              "        vertical-align: middle;\n",
              "    }\n",
              "\n",
              "    .dataframe tbody tr th {\n",
              "        vertical-align: top;\n",
              "    }\n",
              "\n",
              "    .dataframe thead th {\n",
              "        text-align: right;\n",
              "    }\n",
              "</style>\n",
              "<table border=\"1\" class=\"dataframe\">\n",
              "  <thead>\n",
              "    <tr style=\"text-align: right;\">\n",
              "      <th></th>\n",
              "      <th>id</th>\n",
              "      <th>labels</th>\n",
              "    </tr>\n",
              "  </thead>\n",
              "  <tbody>\n",
              "    <tr>\n",
              "      <th>0</th>\n",
              "      <td>0</td>\n",
              "      <td>8</td>\n",
              "    </tr>\n",
              "    <tr>\n",
              "      <th>1</th>\n",
              "      <td>1</td>\n",
              "      <td>9</td>\n",
              "    </tr>\n",
              "    <tr>\n",
              "      <th>2</th>\n",
              "      <td>2</td>\n",
              "      <td>2</td>\n",
              "    </tr>\n",
              "    <tr>\n",
              "      <th>3</th>\n",
              "      <td>3</td>\n",
              "      <td>11</td>\n",
              "    </tr>\n",
              "    <tr>\n",
              "      <th>4</th>\n",
              "      <td>4</td>\n",
              "      <td>8</td>\n",
              "    </tr>\n",
              "    <tr>\n",
              "      <th>...</th>\n",
              "      <td>...</td>\n",
              "      <td>...</td>\n",
              "    </tr>\n",
              "    <tr>\n",
              "      <th>1995</th>\n",
              "      <td>1995</td>\n",
              "      <td>2</td>\n",
              "    </tr>\n",
              "    <tr>\n",
              "      <th>1996</th>\n",
              "      <td>1996</td>\n",
              "      <td>7</td>\n",
              "    </tr>\n",
              "    <tr>\n",
              "      <th>1997</th>\n",
              "      <td>1997</td>\n",
              "      <td>0</td>\n",
              "    </tr>\n",
              "    <tr>\n",
              "      <th>1998</th>\n",
              "      <td>1998</td>\n",
              "      <td>9</td>\n",
              "    </tr>\n",
              "    <tr>\n",
              "      <th>1999</th>\n",
              "      <td>1999</td>\n",
              "      <td>9</td>\n",
              "    </tr>\n",
              "  </tbody>\n",
              "</table>\n",
              "<p>2000 rows × 2 columns</p>\n",
              "</div>"
            ],
            "text/plain": [
              "        id labels\n",
              "0        0      8\n",
              "1        1      9\n",
              "2        2      2\n",
              "3        3     11\n",
              "4        4      8\n",
              "...    ...    ...\n",
              "1995  1995      2\n",
              "1996  1996      7\n",
              "1997  1997      0\n",
              "1998  1998      9\n",
              "1999  1999      9\n",
              "\n",
              "[2000 rows x 2 columns]"
            ]
          },
          "metadata": {
            "tags": []
          },
          "execution_count": 33
        }
      ]
    },
    {
      "cell_type": "markdown",
      "metadata": {
        "id": "PIB_1E9zUWKr"
      },
      "source": [
        "## Final submission"
      ]
    },
    {
      "cell_type": "code",
      "metadata": {
        "colab": {
          "base_uri": "https://localhost:8080/",
          "height": 420
        },
        "id": "SsWwZrUlUZ7C",
        "outputId": "b8d8f654-3eb8-4405-c0b1-52d16dee83cd"
      },
      "source": [
        "submission_final = pd.read_csv('/content/final_round_test.csv')\n",
        "submission_final"
      ],
      "execution_count": null,
      "outputs": [
        {
          "output_type": "execute_result",
          "data": {
            "text/html": [
              "<div>\n",
              "<style scoped>\n",
              "    .dataframe tbody tr th:only-of-type {\n",
              "        vertical-align: middle;\n",
              "    }\n",
              "\n",
              "    .dataframe tbody tr th {\n",
              "        vertical-align: top;\n",
              "    }\n",
              "\n",
              "    .dataframe thead th {\n",
              "        text-align: right;\n",
              "    }\n",
              "</style>\n",
              "<table border=\"1\" class=\"dataframe\">\n",
              "  <thead>\n",
              "    <tr style=\"text-align: right;\">\n",
              "      <th></th>\n",
              "      <th>id</th>\n",
              "      <th>data</th>\n",
              "    </tr>\n",
              "  </thead>\n",
              "  <tbody>\n",
              "    <tr>\n",
              "      <th>0</th>\n",
              "      <td>0</td>\n",
              "      <td>أَمّا الوِلايَةُ فَالمَعروفُ خُطبَتُها # وَلَس...</td>\n",
              "    </tr>\n",
              "    <tr>\n",
              "      <th>1</th>\n",
              "      <td>1</td>\n",
              "      <td>إِذا مامَرَرتَ بِأَهلِ القُبورِ # تَيَقَّنتَ أ...</td>\n",
              "    </tr>\n",
              "    <tr>\n",
              "      <th>2</th>\n",
              "      <td>2</td>\n",
              "      <td>فعِشْ إنْ قدرتَ قليلَ الحديثِ # قليل الجَليس ق...</td>\n",
              "    </tr>\n",
              "    <tr>\n",
              "      <th>3</th>\n",
              "      <td>3</td>\n",
              "      <td>لَخُطّابُ لَيلى بالَ بُرثُنَ مِنكُمُ # أَذَلُّ...</td>\n",
              "    </tr>\n",
              "    <tr>\n",
              "      <th>4</th>\n",
              "      <td>4</td>\n",
              "      <td>وَخَطفُكَ مِن يَدٍ تَهمي وَتَحمي # فَتَختَصِمُ...</td>\n",
              "    </tr>\n",
              "    <tr>\n",
              "      <th>...</th>\n",
              "      <td>...</td>\n",
              "      <td>...</td>\n",
              "    </tr>\n",
              "    <tr>\n",
              "      <th>1995</th>\n",
              "      <td>1995</td>\n",
              "      <td>أَخُطُّ وَأَمحو كُلَّ ما قَد خَطَطتُهُ # بِدَم...</td>\n",
              "    </tr>\n",
              "    <tr>\n",
              "      <th>1996</th>\n",
              "      <td>1996</td>\n",
              "      <td>فَاِعرَفي لِلمَشيبِ إِذ شَمِلَ الرَأ # سَ فَإِ...</td>\n",
              "    </tr>\n",
              "    <tr>\n",
              "      <th>1997</th>\n",
              "      <td>1997</td>\n",
              "      <td>إِنَّ الدِيارَ الَّتي تُبكى بِمُتَّقِدٍ # غَير...</td>\n",
              "    </tr>\n",
              "    <tr>\n",
              "      <th>1998</th>\n",
              "      <td>1998</td>\n",
              "      <td>فاخترت هذا ولا العشار من كضض # تركت قلبي كريش ...</td>\n",
              "    </tr>\n",
              "    <tr>\n",
              "      <th>1999</th>\n",
              "      <td>1999</td>\n",
              "      <td>وَتَرجِعُ لي روحُ الحَياةِ فَإِنَّني # بِنَفسِ...</td>\n",
              "    </tr>\n",
              "  </tbody>\n",
              "</table>\n",
              "<p>2000 rows × 2 columns</p>\n",
              "</div>"
            ],
            "text/plain": [
              "        id                                               data\n",
              "0        0  أَمّا الوِلايَةُ فَالمَعروفُ خُطبَتُها # وَلَس...\n",
              "1        1  إِذا مامَرَرتَ بِأَهلِ القُبورِ # تَيَقَّنتَ أ...\n",
              "2        2  فعِشْ إنْ قدرتَ قليلَ الحديثِ # قليل الجَليس ق...\n",
              "3        3  لَخُطّابُ لَيلى بالَ بُرثُنَ مِنكُمُ # أَذَلُّ...\n",
              "4        4  وَخَطفُكَ مِن يَدٍ تَهمي وَتَحمي # فَتَختَصِمُ...\n",
              "...    ...                                                ...\n",
              "1995  1995  أَخُطُّ وَأَمحو كُلَّ ما قَد خَطَطتُهُ # بِدَم...\n",
              "1996  1996  فَاِعرَفي لِلمَشيبِ إِذ شَمِلَ الرَأ # سَ فَإِ...\n",
              "1997  1997  إِنَّ الدِيارَ الَّتي تُبكى بِمُتَّقِدٍ # غَير...\n",
              "1998  1998  فاخترت هذا ولا العشار من كضض # تركت قلبي كريش ...\n",
              "1999  1999  وَتَرجِعُ لي روحُ الحَياةِ فَإِنَّني # بِنَفسِ...\n",
              "\n",
              "[2000 rows x 2 columns]"
            ]
          },
          "metadata": {
            "tags": []
          },
          "execution_count": 74
        }
      ]
    },
    {
      "cell_type": "code",
      "metadata": {
        "colab": {
          "base_uri": "https://localhost:8080/"
        },
        "id": "PC70OldXUZ7H",
        "outputId": "b93af563-aef8-4f0b-f92d-d0e79571f9e2"
      },
      "source": [
        "final_test = np.array(submission_final['data'])\n",
        "final_test"
      ],
      "execution_count": null,
      "outputs": [
        {
          "output_type": "execute_result",
          "data": {
            "text/plain": [
              "array(['أَمّا الوِلايَةُ فَالمَعروفُ خُطبَتُها # وَلَستُ أَقبَلُها عَن بابِكُم بَدَلا',\n",
              "       'إِذا مامَرَرتَ بِأَهلِ القُبورِ # تَيَقَّنتَ أَنَّكَ مِنهُم غَدا',\n",
              "       'فعِشْ إنْ قدرتَ قليلَ الحديثِ # قليل الجَليس قليل الخِصام', ...,\n",
              "       'إِنَّ الدِيارَ الَّتي تُبكى بِمُتَّقِدٍ # غَيرُ الدِيارِ الَّتي تَبكي بِهَطّالِ',\n",
              "       'فاخترت هذا ولا العشار من كضض # تركت قلبي كريش النسر منتفضا',\n",
              "       'وَتَرجِعُ لي روحُ الحَياةِ فَإِنَّني # بِنَفسِيَ لَو عايَنتَني لَأَجودُ'],\n",
              "      dtype=object)"
            ]
          },
          "metadata": {
            "tags": []
          },
          "execution_count": 109
        }
      ]
    },
    {
      "cell_type": "code",
      "metadata": {
        "colab": {
          "base_uri": "https://localhost:8080/"
        },
        "id": "4zv-8HDxUZ7J",
        "outputId": "58792993-d16f-40a4-ce4e-44213e2be2c7"
      },
      "source": [
        "for i in tqdm(range(len(final_test))):\n",
        "  out = \"\"\n",
        "  #test[i] = araby.strip_tashkeel(test[i])\n",
        "  for c in final_test[i]:\n",
        "    if c not in execluded:\n",
        "      out += c\n",
        "  final_test[i] = out"
      ],
      "execution_count": null,
      "outputs": [
        {
          "output_type": "stream",
          "text": [
            "100%|██████████| 2000/2000 [00:00<00:00, 53892.66it/s]\n"
          ],
          "name": "stderr"
        }
      ]
    },
    {
      "cell_type": "code",
      "metadata": {
        "colab": {
          "base_uri": "https://localhost:8080/"
        },
        "id": "YqwJd8WWUZ7K",
        "outputId": "72e2bfa3-0422-4cb8-bf35-2c9af4aed82a"
      },
      "source": [
        "final_preds = []\n",
        "for i in tqdm(range(len(final_test))):\n",
        "    final_preds.append(classify(final_test[i]))"
      ],
      "execution_count": null,
      "outputs": [
        {
          "output_type": "stream",
          "text": [
            "100%|██████████| 2000/2000 [02:01<00:00, 16.45it/s]\n"
          ],
          "name": "stderr"
        }
      ]
    },
    {
      "cell_type": "code",
      "metadata": {
        "id": "GkuFlJYkUZ7M"
      },
      "source": [
        "ids = [str(id_val) for id_val in range(submission_final.shape[0])]\n",
        "sample_submission = pd.DataFrame(np.array([ids,final_preds]).T,columns=['id','labels'])\n",
        "sample_submission.to_csv(\"final_submission_v9530.csv\",index=False)"
      ],
      "execution_count": null,
      "outputs": []
    },
    {
      "cell_type": "code",
      "metadata": {
        "colab": {
          "base_uri": "https://localhost:8080/",
          "height": 420
        },
        "id": "PROmmYA4UZ7N",
        "outputId": "0ee5d4f0-1cc3-41e7-c876-bc18fd9c37c7"
      },
      "source": [
        "sample_submission"
      ],
      "execution_count": null,
      "outputs": [
        {
          "output_type": "execute_result",
          "data": {
            "text/html": [
              "<div>\n",
              "<style scoped>\n",
              "    .dataframe tbody tr th:only-of-type {\n",
              "        vertical-align: middle;\n",
              "    }\n",
              "\n",
              "    .dataframe tbody tr th {\n",
              "        vertical-align: top;\n",
              "    }\n",
              "\n",
              "    .dataframe thead th {\n",
              "        text-align: right;\n",
              "    }\n",
              "</style>\n",
              "<table border=\"1\" class=\"dataframe\">\n",
              "  <thead>\n",
              "    <tr style=\"text-align: right;\">\n",
              "      <th></th>\n",
              "      <th>id</th>\n",
              "      <th>labels</th>\n",
              "    </tr>\n",
              "  </thead>\n",
              "  <tbody>\n",
              "    <tr>\n",
              "      <th>0</th>\n",
              "      <td>0</td>\n",
              "      <td>8</td>\n",
              "    </tr>\n",
              "    <tr>\n",
              "      <th>1</th>\n",
              "      <td>1</td>\n",
              "      <td>9</td>\n",
              "    </tr>\n",
              "    <tr>\n",
              "      <th>2</th>\n",
              "      <td>2</td>\n",
              "      <td>2</td>\n",
              "    </tr>\n",
              "    <tr>\n",
              "      <th>3</th>\n",
              "      <td>3</td>\n",
              "      <td>11</td>\n",
              "    </tr>\n",
              "    <tr>\n",
              "      <th>4</th>\n",
              "      <td>4</td>\n",
              "      <td>8</td>\n",
              "    </tr>\n",
              "    <tr>\n",
              "      <th>...</th>\n",
              "      <td>...</td>\n",
              "      <td>...</td>\n",
              "    </tr>\n",
              "    <tr>\n",
              "      <th>1995</th>\n",
              "      <td>1995</td>\n",
              "      <td>2</td>\n",
              "    </tr>\n",
              "    <tr>\n",
              "      <th>1996</th>\n",
              "      <td>1996</td>\n",
              "      <td>7</td>\n",
              "    </tr>\n",
              "    <tr>\n",
              "      <th>1997</th>\n",
              "      <td>1997</td>\n",
              "      <td>0</td>\n",
              "    </tr>\n",
              "    <tr>\n",
              "      <th>1998</th>\n",
              "      <td>1998</td>\n",
              "      <td>9</td>\n",
              "    </tr>\n",
              "    <tr>\n",
              "      <th>1999</th>\n",
              "      <td>1999</td>\n",
              "      <td>9</td>\n",
              "    </tr>\n",
              "  </tbody>\n",
              "</table>\n",
              "<p>2000 rows × 2 columns</p>\n",
              "</div>"
            ],
            "text/plain": [
              "        id labels\n",
              "0        0      8\n",
              "1        1      9\n",
              "2        2      2\n",
              "3        3     11\n",
              "4        4      8\n",
              "...    ...    ...\n",
              "1995  1995      2\n",
              "1996  1996      7\n",
              "1997  1997      0\n",
              "1998  1998      9\n",
              "1999  1999      9\n",
              "\n",
              "[2000 rows x 2 columns]"
            ]
          },
          "metadata": {
            "tags": []
          },
          "execution_count": 33
        }
      ]
    },
    {
      "cell_type": "code",
      "metadata": {
        "id": "Xf0h-17AUZ7S"
      },
      "source": [
        ""
      ],
      "execution_count": null,
      "outputs": []
    },
    {
      "cell_type": "code",
      "metadata": {
        "id": "qV60PuuwUZY5"
      },
      "source": [
        ""
      ],
      "execution_count": null,
      "outputs": []
    }
  ]
}